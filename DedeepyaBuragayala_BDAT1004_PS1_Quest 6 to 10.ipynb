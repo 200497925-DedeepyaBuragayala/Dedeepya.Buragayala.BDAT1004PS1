{
 "cells": [
  {
   "cell_type": "code",
   "execution_count": 1,
   "id": "8dc7b17c",
   "metadata": {},
   "outputs": [
    {
     "name": "stdout",
     "output_type": "stream",
     "text": [
      "appyay\n",
      "enterway\n"
     ]
    }
   ],
   "source": [
    "#Question6\n",
    "\n",
    "def pig(userstring):\n",
    "    string = userstring\n",
    "    vowelsUL = ['a','e','i','o','u','A','E','I','O','U']\n",
    "    if  string[0] not in vowelsUL:\n",
    "        pigLatinC = string[1:].lower() + \"ay\"\n",
    "        print(pigLatinC)\n",
    "    else:\n",
    "        pigLatinV = string.lower() + \"way\"\n",
    "        print(pigLatinV)\n",
    "pig('hAppy')\n",
    "pig('Enter')"
   ]
  },
  {
   "cell_type": "code",
   "execution_count": 2,
   "id": "849577d6",
   "metadata": {},
   "outputs": [
    {
     "name": "stdout",
     "output_type": "stream",
     "text": [
      ">>> bldcount('bloodtype.txt')\n",
      "There are 15 patients of blood type A\n",
      "There are 13 patients of blood type AB\n",
      "There are 15 patients of blood type O\n",
      "There is 1 patients of blood type B\n",
      "There are no patients of blood type OO\n"
     ]
    }
   ],
   "source": [
    "#Question 7\n",
    "\n",
    "def bldcount():\n",
    "    \n",
    "    file = open(\"C:\\\\Users\\\\dedee\\\\Downloads\\\\Data_programming\\\\Bloodtype1.txt\", \"r\")\n",
    "    bldtype = file.read()\n",
    "    lst = bldtype.split(\" \")\n",
    "    bldtypelst = [\"A\",\"AB\",\"O\",\"B\", \"OO\"]\n",
    "    print(\">>> bldcount('bloodtype.txt')\")\n",
    "    for bt in bldtypelst:\n",
    "        if lst.count(bt)>1:\n",
    "            print(\"There are \" + str(lst.count(bt)) + \" patients of blood type \" + bt)\n",
    "        else:\n",
    "            if lst.count(bt)== 1:\n",
    "                print(\"There is \" + str(lst.count(bt)) + \" patients of blood type \" + bt)\n",
    "            else:\n",
    "                print(\"There are no patients of blood type \" + bt)\n",
    "                   \n",
    "bldcount()"
   ]
  },
  {
   "cell_type": "code",
   "execution_count": 3,
   "id": "ae44f11f",
   "metadata": {},
   "outputs": [
    {
     "name": "stdout",
     "output_type": "stream",
     "text": [
      ">>> curconv('EUR', 100) \n",
      " 122.96544\n",
      ">>> curconv('JPY', 100) \n",
      " 1.241401\n"
     ]
    }
   ],
   "source": [
    "#Question 8:\n",
    "\n",
    "def curconv(curr,amt):\n",
    "    Fcurr = open(\"C:\\\\Users\\\\dedee\\\\Downloads\\\\Data_programming\\\\currencies.txt\", \"r\") \n",
    "    listData = Fcurr.readlines() \n",
    "    Fcurr.close()\n",
    "    for var in listData:\n",
    "        if curr in var:\n",
    "            currencyLine = var\n",
    "            chosenCur = currencyLine.split(\"\\t\")\n",
    "            currvalue = chosenCur[1]\n",
    "            convAmt = float(currvalue) * float(amt)\n",
    "            return convAmt\n",
    "        \n",
    "#uncomment below line for user input \n",
    "#amount = int (input(\"Please enter the amount:\\n\"))   \n",
    "#uncomment below line for user input\n",
    "#currencyCode = str (input(\"Please enter the Currency type abbreviation:(ex: JPY)\\n\")) \n",
    "#use above two variables to use in curconv for user defined conversions\n",
    "\n",
    "#As per assignment below are the requested currency conversions:\n",
    "convertedAmount = curconv('EUR',100)\n",
    "convertedAmount2 = curconv('JPY',100)\n",
    "print(\">>> curconv('EUR', 100) \\n {}\".format(convertedAmount))\n",
    "print(\">>> curconv('JPY', 100) \\n {}\".format(convertedAmount2))"
   ]
  },
  {
   "cell_type": "code",
   "execution_count": 4,
   "id": "be905678",
   "metadata": {},
   "outputs": [
    {
     "ename": "TypeError",
     "evalue": "unsupported operand type(s) for +: 'int' and 'str'",
     "output_type": "error",
     "traceback": [
      "\u001b[1;31m---------------------------------------------------------------------------\u001b[0m",
      "\u001b[1;31mTypeError\u001b[0m                                 Traceback (most recent call last)",
      "\u001b[1;32m~\\AppData\\Local\\Temp/ipykernel_20220/2518843881.py\u001b[0m in \u001b[0;36m<module>\u001b[1;34m\u001b[0m\n\u001b[0;32m      5\u001b[0m \u001b[0mnumber\u001b[0m \u001b[1;33m=\u001b[0m \u001b[1;36m6\u001b[0m\u001b[1;33m\u001b[0m\u001b[1;33m\u001b[0m\u001b[0m\n\u001b[0;32m      6\u001b[0m \u001b[0mcharacter\u001b[0m \u001b[1;33m=\u001b[0m \u001b[1;34m'a'\u001b[0m\u001b[1;33m\u001b[0m\u001b[1;33m\u001b[0m\u001b[0m\n\u001b[1;32m----> 7\u001b[1;33m \u001b[0merror\u001b[0m \u001b[1;33m=\u001b[0m \u001b[0mprint\u001b[0m\u001b[1;33m(\u001b[0m\u001b[0mnumber\u001b[0m\u001b[1;33m+\u001b[0m\u001b[0mcharacter\u001b[0m\u001b[1;33m)\u001b[0m\u001b[1;33m\u001b[0m\u001b[1;33m\u001b[0m\u001b[0m\n\u001b[0m\u001b[0;32m      8\u001b[0m \u001b[1;33m\u001b[0m\u001b[0m\n\u001b[0;32m      9\u001b[0m \u001b[1;31m#above code execution gives type error\u001b[0m\u001b[1;33m\u001b[0m\u001b[1;33m\u001b[0m\u001b[0m\n",
      "\u001b[1;31mTypeError\u001b[0m: unsupported operand type(s) for +: 'int' and 'str'"
     ]
    }
   ],
   "source": [
    "#Question 9:\n",
    "\n",
    "#a: Trying to add incompatible variables, as in adding 6 + ‘a’\n",
    "#ans: Type error\n",
    "number = 6\n",
    "character = 'a'\n",
    "error = print(number+character)\n",
    "\n",
    "#above code execution gives type error\n"
   ]
  },
  {
   "cell_type": "code",
   "execution_count": 5,
   "id": "568414cb",
   "metadata": {},
   "outputs": [
    {
     "ename": "IndexError",
     "evalue": "list index out of range",
     "output_type": "error",
     "traceback": [
      "\u001b[1;31m---------------------------------------------------------------------------\u001b[0m",
      "\u001b[1;31mIndexError\u001b[0m                                Traceback (most recent call last)",
      "\u001b[1;32m~\\AppData\\Local\\Temp/ipykernel_20220/2360948348.py\u001b[0m in \u001b[0;36m<module>\u001b[1;34m\u001b[0m\n\u001b[0;32m      4\u001b[0m \u001b[1;31m#ans: IndexError.\u001b[0m\u001b[1;33m\u001b[0m\u001b[1;33m\u001b[0m\u001b[0m\n\u001b[0;32m      5\u001b[0m \u001b[0mlist\u001b[0m \u001b[1;33m=\u001b[0m \u001b[1;33m[\u001b[0m\u001b[1;36m1\u001b[0m\u001b[1;33m,\u001b[0m\u001b[1;36m2\u001b[0m\u001b[1;33m,\u001b[0m\u001b[1;36m3\u001b[0m\u001b[1;33m,\u001b[0m\u001b[1;36m4\u001b[0m\u001b[1;33m,\u001b[0m\u001b[1;36m5\u001b[0m\u001b[1;33m,\u001b[0m\u001b[1;36m6\u001b[0m\u001b[1;33m,\u001b[0m\u001b[1;36m7\u001b[0m\u001b[1;33m,\u001b[0m\u001b[1;36m8\u001b[0m\u001b[1;33m,\u001b[0m\u001b[1;36m9\u001b[0m\u001b[1;33m,\u001b[0m\u001b[1;36m10\u001b[0m\u001b[1;33m]\u001b[0m\u001b[1;33m\u001b[0m\u001b[1;33m\u001b[0m\u001b[0m\n\u001b[1;32m----> 6\u001b[1;33m \u001b[0mx\u001b[0m\u001b[1;33m=\u001b[0m\u001b[0mlist\u001b[0m\u001b[1;33m[\u001b[0m\u001b[1;36m12\u001b[0m\u001b[1;33m]\u001b[0m\u001b[1;33m\u001b[0m\u001b[1;33m\u001b[0m\u001b[0m\n\u001b[0m\u001b[0;32m      7\u001b[0m \u001b[1;33m\u001b[0m\u001b[0m\n\u001b[0;32m      8\u001b[0m \u001b[1;31m#above code execution gives IndexError\u001b[0m\u001b[1;33m\u001b[0m\u001b[1;33m\u001b[0m\u001b[0m\n",
      "\u001b[1;31mIndexError\u001b[0m: list index out of range"
     ]
    }
   ],
   "source": [
    "#Question 9:\n",
    "\n",
    "#b: Referring to the 12th item of a list that has only 10 items\n",
    "#ans: IndexError. \n",
    "list = [1,2,3,4,5,6,7,8,9,10]\n",
    "x=list[12]\n",
    "\n",
    "#above code execution gives IndexError"
   ]
  },
  {
   "cell_type": "code",
   "execution_count": 6,
   "id": "a25540a4",
   "metadata": {},
   "outputs": [
    {
     "ename": "ValueError",
     "evalue": "math domain error",
     "output_type": "error",
     "traceback": [
      "\u001b[1;31m---------------------------------------------------------------------------\u001b[0m",
      "\u001b[1;31mValueError\u001b[0m                                Traceback (most recent call last)",
      "\u001b[1;32m~\\AppData\\Local\\Temp/ipykernel_20220/3694048746.py\u001b[0m in \u001b[0;36m<module>\u001b[1;34m\u001b[0m\n\u001b[0;32m      4\u001b[0m \u001b[1;31m#ans: ValueError.\u001b[0m\u001b[1;33m\u001b[0m\u001b[1;33m\u001b[0m\u001b[0m\n\u001b[0;32m      5\u001b[0m \u001b[1;32mimport\u001b[0m \u001b[0mmath\u001b[0m\u001b[1;33m\u001b[0m\u001b[1;33m\u001b[0m\u001b[0m\n\u001b[1;32m----> 6\u001b[1;33m \u001b[0msquareroot\u001b[0m \u001b[1;33m=\u001b[0m \u001b[0mmath\u001b[0m\u001b[1;33m.\u001b[0m\u001b[0msqrt\u001b[0m\u001b[1;33m(\u001b[0m\u001b[1;33m-\u001b[0m\u001b[1;36m1.0\u001b[0m\u001b[1;33m)\u001b[0m\u001b[1;33m\u001b[0m\u001b[1;33m\u001b[0m\u001b[0m\n\u001b[0m\u001b[0;32m      7\u001b[0m \u001b[1;33m\u001b[0m\u001b[0m\n\u001b[0;32m      8\u001b[0m \u001b[1;31m#above code execution gives ValueError\u001b[0m\u001b[1;33m\u001b[0m\u001b[1;33m\u001b[0m\u001b[0m\n",
      "\u001b[1;31mValueError\u001b[0m: math domain error"
     ]
    }
   ],
   "source": [
    "#Question 9:\n",
    "\n",
    "#c:Using a value that is out of range for a function’s input, such as calling math.sqrt(-1.0)\n",
    "#ans: ValueError.\n",
    "import math\n",
    "squareroot = math.sqrt(-1.0)\n",
    "\n",
    "#above code execution gives ValueError"
   ]
  },
  {
   "cell_type": "code",
   "execution_count": 7,
   "id": "8dc89868",
   "metadata": {},
   "outputs": [
    {
     "ename": "NameError",
     "evalue": "name 'var' is not defined",
     "output_type": "error",
     "traceback": [
      "\u001b[1;31m---------------------------------------------------------------------------\u001b[0m",
      "\u001b[1;31mNameError\u001b[0m                                 Traceback (most recent call last)",
      "\u001b[1;32m~\\AppData\\Local\\Temp/ipykernel_20220/3228974162.py\u001b[0m in \u001b[0;36m<module>\u001b[1;34m\u001b[0m\n\u001b[0;32m      4\u001b[0m \u001b[1;31m#ans: NameError.\u001b[0m\u001b[1;33m\u001b[0m\u001b[1;33m\u001b[0m\u001b[0m\n\u001b[0;32m      5\u001b[0m \u001b[1;33m\u001b[0m\u001b[0m\n\u001b[1;32m----> 6\u001b[1;33m \u001b[0mprint\u001b[0m\u001b[1;33m(\u001b[0m\u001b[0mvar\u001b[0m\u001b[1;33m)\u001b[0m\u001b[1;33m\u001b[0m\u001b[1;33m\u001b[0m\u001b[0m\n\u001b[0m\u001b[0;32m      7\u001b[0m \u001b[1;33m\u001b[0m\u001b[0m\n\u001b[0;32m      8\u001b[0m \u001b[1;31m#above code execution gives NameError\u001b[0m\u001b[1;33m\u001b[0m\u001b[1;33m\u001b[0m\u001b[0m\n",
      "\u001b[1;31mNameError\u001b[0m: name 'var' is not defined"
     ]
    }
   ],
   "source": [
    "#Question 9:\n",
    "\n",
    "#d: Using an undeclared variable, such as print(x) when x has not been defined\n",
    "#ans: NameError. \n",
    "\n",
    "print(var)\n",
    "\n",
    "#above code execution gives NameError"
   ]
  },
  {
   "cell_type": "code",
   "execution_count": 8,
   "id": "11253bac",
   "metadata": {},
   "outputs": [
    {
     "ename": "FileNotFoundError",
     "evalue": "[Errno 2] No such file or directory: 'dedeepya.txt'",
     "output_type": "error",
     "traceback": [
      "\u001b[1;31m---------------------------------------------------------------------------\u001b[0m",
      "\u001b[1;31mFileNotFoundError\u001b[0m                         Traceback (most recent call last)",
      "\u001b[1;32m~\\AppData\\Local\\Temp/ipykernel_20220/2981916973.py\u001b[0m in \u001b[0;36m<module>\u001b[1;34m\u001b[0m\n\u001b[0;32m      4\u001b[0m \u001b[1;31m#ans: FileNotFoundError.\u001b[0m\u001b[1;33m\u001b[0m\u001b[1;33m\u001b[0m\u001b[0m\n\u001b[0;32m      5\u001b[0m \u001b[1;33m\u001b[0m\u001b[0m\n\u001b[1;32m----> 6\u001b[1;33m \u001b[0mfile\u001b[0m \u001b[1;33m=\u001b[0m \u001b[0mopen\u001b[0m\u001b[1;33m(\u001b[0m\u001b[1;34m\"dedeepya.txt\"\u001b[0m\u001b[1;33m)\u001b[0m\u001b[1;33m\u001b[0m\u001b[1;33m\u001b[0m\u001b[0m\n\u001b[0m\u001b[0;32m      7\u001b[0m \u001b[1;33m\u001b[0m\u001b[0m\n\u001b[0;32m      8\u001b[0m \u001b[1;33m\u001b[0m\u001b[0m\n",
      "\u001b[1;31mFileNotFoundError\u001b[0m: [Errno 2] No such file or directory: 'dedeepya.txt'"
     ]
    }
   ],
   "source": [
    "#Question 9:\n",
    "\n",
    "#e: Trying to open a file that does not exist, such as mistyping the file name or looking in the wrong directory.\n",
    "#ans: FileNotFoundError. \n",
    "\n",
    "file = open(\"dedeepya.txt\")\n",
    "\n",
    "    \n",
    "#above code execution gives FileNotFoundError"
   ]
  },
  {
   "cell_type": "code",
   "execution_count": 9,
   "id": "6c64434f",
   "metadata": {},
   "outputs": [
    {
     "data": {
      "text/plain": [
       "[1, 1, 1, 3, 5, 1, 1, 2, 1, 0, 1, 0, 1, 2, 4, 0, 1, 2, 0, 3, 1, 0, 1, 1, 0]"
      ]
     },
     "execution_count": 9,
     "metadata": {},
     "output_type": "execute_result"
    }
   ],
   "source": [
    "#Question 10:\n",
    "\n",
    "def frequencies(string):\n",
    "    Alphabets = \"ABCDEFGHIJKLMNOPQRSTUVWXYZ\"\n",
    "    upperstring= string.upper()\n",
    "    VarCount=[]\n",
    "    for i in range(len(Alphabets)-1):\n",
    "        VarCount.append((upperstring.count(Alphabets[i])))\n",
    "    return VarCount\n",
    "\n",
    "#Function frequencies(string) returns a list of integers for input string\n",
    "frequencies(\"The quick red fox got bored and went home\")\n"
   ]
  },
  {
   "cell_type": "code",
   "execution_count": 10,
   "id": "b71dd1c5",
   "metadata": {},
   "outputs": [
    {
     "data": {
      "text/plain": [
       "[1, 0, 0, 0, 1, 0, 0, 0, 0, 0, 0, 1, 0, 0, 0, 2, 0, 0, 0, 0, 0, 0, 0, 0, 0]"
      ]
     },
     "execution_count": 10,
     "metadata": {},
     "output_type": "execute_result"
    }
   ],
   "source": [
    "#Function frequencies(string) returns a list of integers for apple, showing the number of times each character appears in the text\n",
    "frequencies(\"apple\") "
   ]
  },
  {
   "cell_type": "code",
   "execution_count": null,
   "id": "f9db24e0",
   "metadata": {},
   "outputs": [],
   "source": []
  }
 ],
 "metadata": {
  "kernelspec": {
   "display_name": "Python 3 (ipykernel)",
   "language": "python",
   "name": "python3"
  },
  "language_info": {
   "codemirror_mode": {
    "name": "ipython",
    "version": 3
   },
   "file_extension": ".py",
   "mimetype": "text/x-python",
   "name": "python",
   "nbconvert_exporter": "python",
   "pygments_lexer": "ipython3",
   "version": "3.9.7"
  }
 },
 "nbformat": 4,
 "nbformat_minor": 5
}
