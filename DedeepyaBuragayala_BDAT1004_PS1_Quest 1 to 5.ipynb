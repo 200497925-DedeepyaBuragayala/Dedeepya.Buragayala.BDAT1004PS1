{
 "cells": [
  {
   "cell_type": "code",
   "execution_count": null,
   "id": "dc46fdf8",
   "metadata": {},
   "outputs": [],
   "source": [
    "//Question 1 we can also use type() function to retrieve data types of each value\n",
    "//Answer:\n",
    "5 - Integer\n",
    "5.0 - Float\n",
    "5 > 1 - Boolean\n",
    "'5' - Character\n",
    "5 * 2 - Integer\n",
    "'5' * 2 - String\n",
    "'5' + '2' - String\n",
    "5 / 2 - Float\n",
    "5 % 2 - Integer\n",
    "{5, 2, 1} - List\n",
    "5 == 3 - Boolean\n",
    "Pi (the number) - Float"
   ]
  },
  {
   "cell_type": "code",
   "execution_count": 1,
   "id": "45369479",
   "metadata": {
    "slideshow": {
     "slide_type": "slide"
    }
   },
   "outputs": [],
   "source": [
    "//Question 2a: Execute using C# Kernel\n",
    "//Answer:\n",
    "\n",
    "using System;\n",
    "public class countchar\n",
    "    {\n",
    "    public static void Main(string[] args)\n",
    "    {\n",
    "      string usrstr = \"Supercalifragilisticexpialidocious\";\n",
    "      int countletter = usrstr.Length;\n",
    "      Console.WriteLine($\"The length of string '{usrstr}' is {countletter}\");\n",
    "     }\n",
    "}\n"
   ]
  },
  {
   "cell_type": "code",
   "execution_count": 3,
   "id": "04b2e399",
   "metadata": {
    "slideshow": {
     "slide_type": "fragment"
    }
   },
   "outputs": [
    {
     "name": "stdout",
     "output_type": "stream",
     "text": [
      "The length of string 'Supercalifragilisticexpialidocious' is 34\r\n"
     ]
    }
   ],
   "source": [
    "      string usrstr = \"Supercalifragilisticexpialidocious\";\n",
    "      int countletter = usrstr.Length;\n",
    "      Console.WriteLine($\"The length of string '{usrstr}' is {countletter}\");"
   ]
  },
  {
   "cell_type": "code",
   "execution_count": 3,
   "id": "9ba0da12",
   "metadata": {
    "slideshow": {
     "slide_type": "slide"
    }
   },
   "outputs": [],
   "source": [
    "//Question 2b: Execute using C# kernel\n",
    "//Answer:\n",
    "\n",
    "using System;\n",
    "public class substr\n",
    "    {\n",
    "    public static void Main(string[] args)\n",
    "    {\n",
    "        string usrstr = \"Supercalifragilisticexpialidocious\";\n",
    "        string val=\"ice\";\n",
    "        bool b = usrstr.Contains(val);\n",
    "        Console.WriteLine(\"'{0}' is in the string '{1}'\",val, usrstr);\n",
    "    }\n",
    "}"
   ]
  },
  {
   "cell_type": "code",
   "execution_count": 2,
   "id": "ec7d6baf",
   "metadata": {
    "slideshow": {
     "slide_type": "fragment"
    }
   },
   "outputs": [
    {
     "name": "stdout",
     "output_type": "stream",
     "text": [
      "'ice' is in the string 'Supercalifragilisticexpialidocious'\r\n"
     ]
    }
   ],
   "source": [
    "        string usrstr = \"Supercalifragilisticexpialidocious\";\n",
    "        string val=\"ice\";\n",
    "        bool b = usrstr.Contains(val);\n",
    "        Console.WriteLine(\"'{0}' is in the string '{1}'\",val, usrstr);"
   ]
  },
  {
   "cell_type": "code",
   "execution_count": 6,
   "id": "b36a2904",
   "metadata": {
    "slideshow": {
     "slide_type": "slide"
    }
   },
   "outputs": [],
   "source": [
    "//Question 2c: Execute using C# kernel\n",
    "//Answer:\n",
    "\n",
    "\n",
    "using System;\n",
    "public class longeststr\n",
    "    {\n",
    "    public static void Main(string[] args)\n",
    "    {\n",
    "      string usrstr1 = \"Supercalifragilisticexpialidocious\";\n",
    "      string usrstr2 = \"Honorificabilitudinitatibus\";\n",
    "      string usrstr3 = \"Bababadalgharaghtakamminarronnkonn\";\n",
    "        if (usrstr1.Length>=usrstr2.Length)\n",
    "            if (usrstr1.Length>=usrstr3.Length)\n",
    "                {       \n",
    "                    Console.WriteLine(\"The longest string is '{0}'\",usrstr1);\n",
    "                }\n",
    "                else\n",
    "                {\n",
    "                    Console.WriteLine(\"The longest string is '{0}'\",usrstr3);\n",
    "\n",
    "                }       \n",
    "            else if(usrstr2.Length>=usrstr3.Length)\n",
    "            {\n",
    "                Console.WriteLine(\"The longest string is '{0}'\",usrstr2);\n",
    "            }\n",
    "            else\n",
    "            {\n",
    "                Console.WriteLine(\"The longest string is '{0}'\",usrstr3);\n",
    "            }\n",
    "     }\n",
    "}\n"
   ]
  },
  {
   "cell_type": "code",
   "execution_count": 7,
   "id": "f9b88aa0",
   "metadata": {},
   "outputs": [
    {
     "name": "stdout",
     "output_type": "stream",
     "text": [
      "The longest string is 'Supercalifragilisticexpialidocious'\r\n"
     ]
    }
   ],
   "source": [
    "      string usrstr1 = \"Supercalifragilisticexpialidocious\";\n",
    "      string usrstr2 = \"Honorificabilitudinitatibus\";\n",
    "      string usrstr3 = \"Bababadalgharaghtakamminarronnkonn\";\n",
    "        if (usrstr1.Length>=usrstr2.Length)\n",
    "            if (usrstr1.Length>=usrstr3.Length)\n",
    "                {       \n",
    "                    Console.WriteLine(\"The longest string is '{0}'\",usrstr1);\n",
    "                }\n",
    "                else\n",
    "                {\n",
    "                    Console.WriteLine(\"The longest string is '{0}'\",usrstr3);\n",
    "\n",
    "                }       \n",
    "            else if(usrstr2.Length>=usrstr3.Length)\n",
    "            {\n",
    "                Console.WriteLine(\"The longest string is '{0}'\",usrstr2);\n",
    "            }\n",
    "            else\n",
    "            {\n",
    "                Console.WriteLine(\"The longest string is '{0}'\",usrstr3);\n",
    "            }"
   ]
  },
  {
   "cell_type": "code",
   "execution_count": 15,
   "id": "f1f44ab9",
   "metadata": {},
   "outputs": [],
   "source": [
    "//Question 2d: Execute using C# kernel\n",
    "//Answer:\n",
    "\n",
    "using System;\n",
    "using System.Collections.Generic;\n",
    "\n",
    "class SortComposer\n",
    "    {\n",
    "        static void Main(string[] args)\n",
    "        {\n",
    "            var composer = new SortedSet<string>();\n",
    "            composer.Add(\"Berlioz\");\n",
    "            composer.Add(\"Borodin\");\n",
    "            composer.Add(\"Brian\");\n",
    "            composer.Add(\"Bartok\");\n",
    "            composer.Add(\"Bellini\");\n",
    "            composer.Add(\"Buxtehude\");\n",
    "            composer.Add(\"Bernstein\");\n",
    "            Console.WriteLine(\"The First Composer in the Dictionary is \"+ composer.First());\n",
    "            Console.WriteLine(\"The First Composer in the Dictionary is \"+ composer.Last());\n",
    "        }\n",
    "    }\n",
    "\n"
   ]
  },
  {
   "cell_type": "code",
   "execution_count": 16,
   "id": "5ee874c6",
   "metadata": {},
   "outputs": [
    {
     "name": "stdout",
     "output_type": "stream",
     "text": [
      "The First Composer in the Dictionary is Bartok\n",
      "The First Composer in the Dictionary is Buxtehude\n"
     ]
    }
   ],
   "source": [
    "           var composer = new SortedSet<string>();\n",
    "            composer.Add(\"Berlioz\");\n",
    "            composer.Add(\"Borodin\");\n",
    "            composer.Add(\"Brian\");\n",
    "            composer.Add(\"Bartok\");\n",
    "            composer.Add(\"Bellini\");\n",
    "            composer.Add(\"Buxtehude\");\n",
    "            composer.Add(\"Bernstein\");\n",
    "            Console.WriteLine(\"The First Composer in the Dictionary is \"+ composer.First());\n",
    "            Console.WriteLine(\"The First Composer in the Dictionary is \"+ composer.Last());"
   ]
  },
  {
   "cell_type": "code",
   "execution_count": 14,
   "id": "3b9045c8",
   "metadata": {},
   "outputs": [],
   "source": [
    "//Question 3: Visual studio code\n",
    "//VisualStudiocode\n",
    "//Answer:\n",
    "\n",
    "using System;\n",
    "class TriangleArea\n",
    "{\n",
    "    static void Main(string[] args)\n",
    "    {\n",
    "        Console.WriteLine(\"Enter side a value:\");\n",
    "        int a = Convert.ToInt32(Console.ReadLine());\n",
    "        Console.WriteLine(\"Enter side b value:\");\n",
    "        int b = Convert.ToInt32(Console.ReadLine());\n",
    "        Console.WriteLine(\"Enter side c value:\");\n",
    "        int c = Convert.ToInt32(Console.ReadLine()); \n",
    "        double s = (a + b + c) / 2;\n",
    "        double TAreasub = s * (s - a) * (s - b) * (s - c);\n",
    "        double TArea = Math.Sqrt(TAreasub);\n",
    "        Console.WriteLine($\">>> TriangleArea({a},{b},{c})\\n\" + TArea);\n",
    "\n",
    "    }\n",
    "\n",
    "}\n"
   ]
  },
  {
   "cell_type": "code",
   "execution_count": 2,
   "id": "c7f072c6",
   "metadata": {
    "slideshow": {
     "slide_type": "notes"
    }
   },
   "outputs": [
    {
     "name": "stdout",
     "output_type": "stream",
     "text": [
      ">>> TriangleArea(2,2,2)\n",
      "1.7320508075688772\r\n"
     ]
    }
   ],
   "source": [
    "//Question 3:Jupyter notes execution with hardcoded values      \n",
    "\n",
    "            int a = 2;\n",
    "            int b = 2;\n",
    "            int c = 2;\n",
    "            double s = (a + b + c) / 2;\n",
    "            double TAreasub = s * (s - a) * (s - b) * (s - c);\n",
    "            double TArea = Math.Sqrt(TAreasub);\n",
    "            Console.WriteLine($\">>> TriangleArea({a},{b},{c})\\n\"+TArea);"
   ]
  },
  {
   "cell_type": "code",
   "execution_count": null,
   "id": "8e2be704",
   "metadata": {
    "slideshow": {
     "slide_type": "slide"
    }
   },
   "outputs": [],
   "source": [
    "//Question 3:Visual Studio output: screenshot available in github\n",
    "\n",
    "Enter side a value:\n",
    "2\n",
    "Enter side b value:\n",
    "2\n",
    "Enter side c value:\n",
    "2\n",
    ">>> TriangleArea(2,2,2)\n",
    "1.7320508075688772\n",
    "\n",
    "\n"
   ]
  },
  {
   "cell_type": "code",
   "execution_count": 36,
   "id": "f22182a7",
   "metadata": {},
   "outputs": [],
   "source": [
    "//Question 4: Visual studio code\n",
    "//Answer:\n",
    "\n",
    "using System;\n",
    "\n",
    "class EvenOdd\n",
    "{\n",
    "    static void Main(string[] args)\n",
    "    {\n",
    "        Console.Write(\"Input the number of elements to be stored in the array :\");\n",
    "        int noE = Convert.ToInt32(Console.ReadLine());\n",
    "        int evn = 0;\n",
    "        int od = 0;\n",
    "        Console.WriteLine($\"Input {noE} elements in the array : \");\n",
    "        int[] elements = new int[noE];\n",
    "        int[] even = new int[noE];\n",
    "        int[] odd = new int[noE];\n",
    "        int izero = 0;\n",
    "        while (izero < noE)\n",
    "        {\n",
    "            Console.Write($\"element - {izero} : \");\n",
    "            int k = Convert.ToInt32(Console.ReadLine());\n",
    "            elements[izero] = k;\n",
    "            izero++;\n",
    "        }\n",
    "        foreach (int number in elements)\n",
    "        {\n",
    "            if (number % 2 == 0)\n",
    "            {\n",
    "                even[evn] = number;\n",
    "                evn = evn + 1;\n",
    "            }\n",
    "            else\n",
    "            {\n",
    "                odd[od] = number;\n",
    "                od = od + 1;\n",
    "            }\n",
    "        }\n",
    "        Console.Write(\"The Even elements are: \\n\");\n",
    "        int x=0;\n",
    "        while (x < evn)\n",
    "        {\n",
    "            Console.Write(even[x] + \" \");\n",
    "            x++;\n",
    "        }\n",
    "        Console.Write(\"\\nThe Odd elements are: \\n\");\n",
    "        int y=0;\n",
    "        while (y < od)\n",
    "        {\n",
    "            Console.Write(odd[y] + \" \");\n",
    "             y++;\n",
    "        }\n",
    "    }\n",
    "}\n",
    "\n"
   ]
  },
  {
   "cell_type": "code",
   "execution_count": null,
   "id": "96117b9f",
   "metadata": {},
   "outputs": [],
   "source": [
    "//Question 4: Visual studio output: screenshot available in github\n",
    "        \n",
    "Input the number of elements to be stored in the array :5\n",
    "Input 5 elements in the array :\n",
    "element - 0 : 25\n",
    "element - 1 : 47\n",
    "element - 2 : 42\n",
    "element - 3 : 56\n",
    "element - 4 : 32\n",
    "The Even elements are:\n",
    "42 56 32\n",
    "The Odd elements are:\n",
    "25 47\n"
   ]
  },
  {
   "cell_type": "code",
   "execution_count": null,
   "id": "64602d7b",
   "metadata": {},
   "outputs": [],
   "source": [
    "//Question 5a : Visual studio code\n",
    "using System;\n",
    "\n",
    "class BuildFunction\n",
    "    {\n",
    "        static void Main(string[] args)\n",
    "        {\n",
    "\n",
    "            Console.WriteLine(\"Enter the values for x,y,x1,y1,x2,y2\\n(**press enter after each entry**)\");\n",
    "\n",
    "            double[] arrayvalues = new double[6];\n",
    "            int i = 0;\n",
    "            while (i <= 5)\n",
    "            {\n",
    "               double var = Convert.ToDouble(Console.ReadLine());\n",
    "               arrayvalues[i] = var;\n",
    "               i++;\n",
    "            }\n",
    "            inside(arrayvalues[0], arrayvalues[1], arrayvalues[2], arrayvalues[3], arrayvalues[4], arrayvalues[5]);\n",
    "        }\n",
    "\n",
    "        private static void inside(double i1, double i2, double i3, double i4, double i5, double i6)\n",
    "        {\n",
    "\n",
    "            if (i1 > i3 && i1 < i5 && i2 > i4 && i2 < i6)\n",
    "            {\n",
    "                Console.WriteLine($\"inside({i1},{i2},{i3},{i4},{i5},{i6})\\nTrue\");\n",
    "            }\n",
    "            else\n",
    "            {\n",
    "                Console.WriteLine($\"inside({ i1},{ i2},{ i3},{ i4},{ i5},{ i6})\\nFalse\");\n",
    "            }\n",
    "        }\n",
    "\n",
    "    }\n"
   ]
  },
  {
   "cell_type": "code",
   "execution_count": null,
   "id": "6460630a",
   "metadata": {},
   "outputs": [],
   "source": [
    "//Question 5a: Visual studio output: screenshot available in github\n",
    "//scenario 1:\n",
    "    \n",
    "Enter the values for x,y,x1,y1,x2,y2\n",
    "(**press enter after each entry**)\n",
    "1\n",
    "1\n",
    "0\n",
    "0\n",
    "2\n",
    "3\n",
    "inside(1,1,0,0,2,3)\n",
    "True\n",
    "\n",
    "//scenario 2:\n",
    "\n",
    "Enter the values for x,y,x1,y1,x2,y2\n",
    "(**press enter after each entry**)\n",
    "-1\n",
    "-1\n",
    "0\n",
    "0\n",
    "2\n",
    "3\n",
    "inside(-1,-1,0,0,2,3)\n",
    "False"
   ]
  },
  {
   "cell_type": "code",
   "execution_count": null,
   "id": "f6721239",
   "metadata": {},
   "outputs": [],
   "source": [
    "//Question 5b : Visual studio code\n",
    "using System;\n",
    "\n",
    "class BuildFunction\n",
    "    {\n",
    "        static void Main(string[] args)\n",
    "        {\n",
    "\n",
    "            Console.WriteLine(\"Enter the values for x,y,x1,y1,x2,y2\\n(**press enter after each entry**)\");\n",
    "\n",
    "            double[] arrayvalues = new double[6];\n",
    "            int i = 0;\n",
    "            while (i <= 5)\n",
    "            {\n",
    "               double var = Convert.ToDouble(Console.ReadLine());\n",
    "               arrayvalues[i] = var;\n",
    "               i++;\n",
    "            }\n",
    "            inside(arrayvalues[0], arrayvalues[1], arrayvalues[2], arrayvalues[3], arrayvalues[4], arrayvalues[5]);\n",
    "        }\n",
    "\n",
    "        private static void inside(double i1, double i2, double i3, double i4, double i5, double i6)\n",
    "        {\n",
    "\n",
    "            if (i1 > i3 && i1 < i5 && i2 > i4 && i2 < i6)\n",
    "            {\n",
    "                Console.WriteLine($\"inside({i1},{i2},{i3},{i4},{i5},{i6})\\nTrue\");\n",
    "            }\n",
    "            else\n",
    "            {\n",
    "                Console.WriteLine($\"inside({ i1},{ i2},{ i3},{ i4},{ i5},{ i6})\\nFalse\");\n",
    "            }\n",
    "        }\n",
    "\n",
    "    }\n"
   ]
  },
  {
   "cell_type": "code",
   "execution_count": null,
   "id": "a2c76d7f",
   "metadata": {},
   "outputs": [],
   "source": [
    "//Question 5b: Visual studio output: screenshot available in github\n",
    "//scenario 1:\n",
    "    \n",
    "Enter the values for x,y,x1,y1,x2,y2\n",
    "(**press enter after each entry**)\n",
    "1\n",
    "1\n",
    "0.3\n",
    "0.5\n",
    "1.1\n",
    "0.7\n",
    "inside(1,1,0.3,0.5,1.1,0.7)\n",
    "False\n",
    "\n",
    "\n",
    "//scenario 2:\n",
    "\n",
    "Enter the values for x,y,x1,y1,x2,y2\n",
    "(**press enter after each entry**)\n",
    "1\n",
    "1\n",
    "0.5\n",
    "0.2\n",
    "1.1\n",
    "2\n",
    "inside(1,1,0.5,0.2,1.1,2)\n",
    "True"
   ]
  }
 ],
 "metadata": {
  "celltoolbar": "Slideshow",
  "kernelspec": {
   "display_name": ".NET (C#)",
   "language": "C#",
   "name": ".net-csharp"
  },
  "language_info": {
   "file_extension": ".cs",
   "mimetype": "text/x-csharp",
   "name": "C#",
   "pygments_lexer": "csharp",
   "version": "8.0"
  }
 },
 "nbformat": 4,
 "nbformat_minor": 5
}
